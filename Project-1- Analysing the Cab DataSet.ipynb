{
 "cells": [
  {
   "cell_type": "markdown",
   "id": "9a1123ee",
   "metadata": {},
   "source": [
    "\n",
    "# Project-1\n"
   ]
  },
  {
   "cell_type": "markdown",
   "id": "fd482600",
   "metadata": {},
   "source": [
    "## Analysing cab rides in New York to and from the Airport"
   ]
  },
  {
   "cell_type": "markdown",
   "id": "f34e17ee",
   "metadata": {},
   "source": [
    "In the Data Set we have to calculate the followings:-\n",
    "1).Mean speed of all the rides.\n",
    "2).Number of rides taken in February.\n",
    "3).Number of rides where tip more than $50."
   ]
  },
  {
   "cell_type": "code",
   "execution_count": 1,
   "id": "d8dacdf9",
   "metadata": {},
   "outputs": [],
   "source": [
    "import pandas as pd\n",
    "import numpy as np\n"
   ]
  },
  {
   "cell_type": "code",
   "execution_count": 2,
   "id": "3a95d9d5",
   "metadata": {},
   "outputs": [],
   "source": [
    "df=pd.read_csv(\"nyc_taxis.csv\")"
   ]
  },
  {
   "cell_type": "code",
   "execution_count": 3,
   "id": "d932a663",
   "metadata": {},
   "outputs": [
    {
     "data": {
      "text/html": [
       "<div>\n",
       "<style scoped>\n",
       "    .dataframe tbody tr th:only-of-type {\n",
       "        vertical-align: middle;\n",
       "    }\n",
       "\n",
       "    .dataframe tbody tr th {\n",
       "        vertical-align: top;\n",
       "    }\n",
       "\n",
       "    .dataframe thead th {\n",
       "        text-align: right;\n",
       "    }\n",
       "</style>\n",
       "<table border=\"1\" class=\"dataframe\">\n",
       "  <thead>\n",
       "    <tr style=\"text-align: right;\">\n",
       "      <th></th>\n",
       "      <th>pickup_year</th>\n",
       "      <th>pickup_month</th>\n",
       "      <th>pickup_day</th>\n",
       "      <th>pickup_dayofweek</th>\n",
       "      <th>pickup_time</th>\n",
       "      <th>pickup_location_code</th>\n",
       "      <th>dropoff_location_code</th>\n",
       "      <th>trip_distance</th>\n",
       "      <th>trip_length</th>\n",
       "      <th>fare_amount</th>\n",
       "      <th>fees_amount</th>\n",
       "      <th>tolls_amount</th>\n",
       "      <th>tip_amount</th>\n",
       "      <th>total_amount</th>\n",
       "      <th>payment_type</th>\n",
       "    </tr>\n",
       "  </thead>\n",
       "  <tbody>\n",
       "    <tr>\n",
       "      <th>0</th>\n",
       "      <td>2016</td>\n",
       "      <td>1</td>\n",
       "      <td>1</td>\n",
       "      <td>5</td>\n",
       "      <td>0</td>\n",
       "      <td>2</td>\n",
       "      <td>4</td>\n",
       "      <td>21.00</td>\n",
       "      <td>2037</td>\n",
       "      <td>52.0</td>\n",
       "      <td>0.8</td>\n",
       "      <td>5.54</td>\n",
       "      <td>11.65</td>\n",
       "      <td>69.99</td>\n",
       "      <td>1</td>\n",
       "    </tr>\n",
       "    <tr>\n",
       "      <th>1</th>\n",
       "      <td>2016</td>\n",
       "      <td>1</td>\n",
       "      <td>1</td>\n",
       "      <td>5</td>\n",
       "      <td>0</td>\n",
       "      <td>2</td>\n",
       "      <td>1</td>\n",
       "      <td>16.29</td>\n",
       "      <td>1520</td>\n",
       "      <td>45.0</td>\n",
       "      <td>1.3</td>\n",
       "      <td>0.00</td>\n",
       "      <td>8.00</td>\n",
       "      <td>54.30</td>\n",
       "      <td>1</td>\n",
       "    </tr>\n",
       "    <tr>\n",
       "      <th>2</th>\n",
       "      <td>2016</td>\n",
       "      <td>1</td>\n",
       "      <td>1</td>\n",
       "      <td>5</td>\n",
       "      <td>0</td>\n",
       "      <td>2</td>\n",
       "      <td>6</td>\n",
       "      <td>12.70</td>\n",
       "      <td>1462</td>\n",
       "      <td>36.5</td>\n",
       "      <td>1.3</td>\n",
       "      <td>0.00</td>\n",
       "      <td>0.00</td>\n",
       "      <td>37.80</td>\n",
       "      <td>2</td>\n",
       "    </tr>\n",
       "    <tr>\n",
       "      <th>3</th>\n",
       "      <td>2016</td>\n",
       "      <td>1</td>\n",
       "      <td>1</td>\n",
       "      <td>5</td>\n",
       "      <td>0</td>\n",
       "      <td>2</td>\n",
       "      <td>6</td>\n",
       "      <td>8.70</td>\n",
       "      <td>1210</td>\n",
       "      <td>26.0</td>\n",
       "      <td>1.3</td>\n",
       "      <td>0.00</td>\n",
       "      <td>5.46</td>\n",
       "      <td>32.76</td>\n",
       "      <td>1</td>\n",
       "    </tr>\n",
       "    <tr>\n",
       "      <th>4</th>\n",
       "      <td>2016</td>\n",
       "      <td>1</td>\n",
       "      <td>1</td>\n",
       "      <td>5</td>\n",
       "      <td>0</td>\n",
       "      <td>2</td>\n",
       "      <td>6</td>\n",
       "      <td>5.56</td>\n",
       "      <td>759</td>\n",
       "      <td>17.5</td>\n",
       "      <td>1.3</td>\n",
       "      <td>0.00</td>\n",
       "      <td>0.00</td>\n",
       "      <td>18.80</td>\n",
       "      <td>2</td>\n",
       "    </tr>\n",
       "  </tbody>\n",
       "</table>\n",
       "</div>"
      ],
      "text/plain": [
       "   pickup_year  pickup_month  pickup_day  pickup_dayofweek  pickup_time  \\\n",
       "0         2016             1           1                 5            0   \n",
       "1         2016             1           1                 5            0   \n",
       "2         2016             1           1                 5            0   \n",
       "3         2016             1           1                 5            0   \n",
       "4         2016             1           1                 5            0   \n",
       "\n",
       "   pickup_location_code  dropoff_location_code  trip_distance  trip_length  \\\n",
       "0                     2                      4          21.00         2037   \n",
       "1                     2                      1          16.29         1520   \n",
       "2                     2                      6          12.70         1462   \n",
       "3                     2                      6           8.70         1210   \n",
       "4                     2                      6           5.56          759   \n",
       "\n",
       "   fare_amount  fees_amount  tolls_amount  tip_amount  total_amount  \\\n",
       "0         52.0          0.8          5.54       11.65         69.99   \n",
       "1         45.0          1.3          0.00        8.00         54.30   \n",
       "2         36.5          1.3          0.00        0.00         37.80   \n",
       "3         26.0          1.3          0.00        5.46         32.76   \n",
       "4         17.5          1.3          0.00        0.00         18.80   \n",
       "\n",
       "   payment_type  \n",
       "0             1  \n",
       "1             1  \n",
       "2             2  \n",
       "3             1  \n",
       "4             2  "
      ]
     },
     "execution_count": 3,
     "metadata": {},
     "output_type": "execute_result"
    }
   ],
   "source": [
    "df.head()"
   ]
  },
  {
   "cell_type": "code",
   "execution_count": 4,
   "id": "401a1078",
   "metadata": {},
   "outputs": [
    {
     "data": {
      "text/plain": [
       "(89560, 15)"
      ]
     },
     "execution_count": 4,
     "metadata": {},
     "output_type": "execute_result"
    }
   ],
   "source": [
    "df.shape"
   ]
  },
  {
   "cell_type": "markdown",
   "id": "2d520eb5",
   "metadata": {},
   "source": [
    "1).Mean speed of all the rides."
   ]
  },
  {
   "cell_type": "code",
   "execution_count": 5,
   "id": "293d5c79",
   "metadata": {},
   "outputs": [],
   "source": [
    "#calculating speed, assuming trip_lenth ia time in seconds\n",
    "speed=df.iloc[:,7]/(df.iloc[:,8]/3600)\n"
   ]
  },
  {
   "cell_type": "code",
   "execution_count": 6,
   "id": "f209280a",
   "metadata": {},
   "outputs": [
    {
     "data": {
      "text/plain": [
       "0        37.113402\n",
       "1        38.581579\n",
       "2        31.272230\n",
       "3        25.884298\n",
       "4        26.371542\n",
       "           ...    \n",
       "89555    17.194570\n",
       "89556    30.101351\n",
       "89557    22.299079\n",
       "89558    42.415512\n",
       "89559    36.904734\n",
       "Length: 89560, dtype: float64"
      ]
     },
     "execution_count": 6,
     "metadata": {},
     "output_type": "execute_result"
    }
   ],
   "source": [
    "speed"
   ]
  },
  {
   "cell_type": "code",
   "execution_count": 7,
   "id": "8e42031b",
   "metadata": {},
   "outputs": [
    {
     "data": {
      "text/plain": [
       "32.24258580925573"
      ]
     },
     "execution_count": 7,
     "metadata": {},
     "output_type": "execute_result"
    }
   ],
   "source": [
    "speed.mean()"
   ]
  },
  {
   "cell_type": "markdown",
   "id": "cd013fd2",
   "metadata": {},
   "source": [
    "Mean speed is 32.24258580925573\n"
   ]
  },
  {
   "cell_type": "markdown",
   "id": "0c02239a",
   "metadata": {},
   "source": [
    "2).Number of rides takes in february."
   ]
  },
  {
   "cell_type": "code",
   "execution_count": 8,
   "id": "6684448f",
   "metadata": {},
   "outputs": [],
   "source": [
    "rides_feb=df[df.iloc[:,1]==2]"
   ]
  },
  {
   "cell_type": "code",
   "execution_count": 9,
   "id": "e5dad09a",
   "metadata": {},
   "outputs": [
    {
     "data": {
      "text/plain": [
       "13333"
      ]
     },
     "execution_count": 9,
     "metadata": {},
     "output_type": "execute_result"
    }
   ],
   "source": [
    "rides_feb.shape[0] "
   ]
  },
  {
   "cell_type": "markdown",
   "id": "6371eb61",
   "metadata": {},
   "source": [
    "Hence total rides takes in Februray is 13333.00"
   ]
  },
  {
   "cell_type": "markdown",
   "id": "fd38472a",
   "metadata": {},
   "source": [
    "3).Calcuate the no.of rides with a tip greater than $50"
   ]
  },
  {
   "cell_type": "code",
   "execution_count": 10,
   "id": "3e0440b4",
   "metadata": {},
   "outputs": [
    {
     "data": {
      "text/plain": [
       "5.814489169271996"
      ]
     },
     "execution_count": 10,
     "metadata": {},
     "output_type": "execute_result"
    }
   ],
   "source": [
    "df[\"tip_amount\"].mean()"
   ]
  },
  {
   "cell_type": "code",
   "execution_count": 11,
   "id": "1cd164f3",
   "metadata": {},
   "outputs": [],
   "source": [
    "tip_greater=df[df[\"tip_amount\"]>50]"
   ]
  },
  {
   "cell_type": "code",
   "execution_count": 12,
   "id": "106b9950",
   "metadata": {},
   "outputs": [
    {
     "data": {
      "text/plain": [
       "16"
      ]
     },
     "execution_count": 12,
     "metadata": {},
     "output_type": "execute_result"
    }
   ],
   "source": [
    "tip_greater.shape[0]"
   ]
  },
  {
   "cell_type": "markdown",
   "id": "9c70c9b9",
   "metadata": {},
   "source": [
    "So the tips greater than $50 is 16"
   ]
  }
 ],
 "metadata": {
  "kernelspec": {
   "display_name": "Python 3 (ipykernel)",
   "language": "python",
   "name": "python3"
  },
  "language_info": {
   "codemirror_mode": {
    "name": "ipython",
    "version": 3
   },
   "file_extension": ".py",
   "mimetype": "text/x-python",
   "name": "python",
   "nbconvert_exporter": "python",
   "pygments_lexer": "ipython3",
   "version": "3.9.7"
  }
 },
 "nbformat": 4,
 "nbformat_minor": 5
}
